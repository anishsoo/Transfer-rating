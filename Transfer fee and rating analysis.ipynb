{
 "cells": [
  {
   "cell_type": "code",
   "execution_count": 1,
   "id": "09b223d8-71b3-4fbb-a6fb-bf4721cf508c",
   "metadata": {},
   "outputs": [
    {
     "ename": "SyntaxError",
     "evalue": "invalid syntax (576376461.py, line 1)",
     "output_type": "error",
     "traceback": [
      "\u001b[0;36m  Cell \u001b[0;32mIn[1], line 1\u001b[0;36m\u001b[0m\n\u001b[0;31m    Correlation of transfer price of a football player with performance per 90\u001b[0m\n\u001b[0m                ^\u001b[0m\n\u001b[0;31mSyntaxError\u001b[0m\u001b[0;31m:\u001b[0m invalid syntax\n"
     ]
    }
   ],
   "source": [
    "Correlation of transfer price of a football player with performance per 90\n",
    "\n",
    "\n",
    "Hypothesis: Transfer fees improve performance up to a point, after which players are overpriced and under-deliver."
   ]
  },
  {
   "cell_type": "code",
   "execution_count": 5,
   "id": "798e6410-6946-475d-a81c-db5aabea6c3a",
   "metadata": {},
   "outputs": [
    {
     "data": {
      "text/plain": [
       "'/home/5cea8fb9-547f-4c9c-8a98-e4f5fa134c73'"
      ]
     },
     "execution_count": 5,
     "metadata": {},
     "output_type": "execute_result"
    }
   ],
   "source": [
    "import os\n",
    "os.getcwd()\n"
   ]
  },
  {
   "cell_type": "code",
   "execution_count": null,
   "id": "7d5a40bb-7d51-4145-91f8-d1fa77beea4e",
   "metadata": {},
   "outputs": [],
   "source": [
    "Cleaning and extracting data"
   ]
  },
  {
   "cell_type": "code",
   "execution_count": 6,
   "id": "d65ddfac-1f88-4fb2-b5db-9054a04438e8",
   "metadata": {},
   "outputs": [
    {
     "data": {
      "text/plain": [
       "['.anaconda',\n",
       " '.gitconfig',\n",
       " '.jupyter',\n",
       " '.ipynb_checkpoints',\n",
       " 'README.ipynb',\n",
       " '.vimrc',\n",
       " '.virtualenvs',\n",
       " '.npm',\n",
       " 'anaconda_projects',\n",
       " '00_Project_Definition.ipynb',\n",
       " '.local',\n",
       " '.profile',\n",
       " 'Untitled.ipynb',\n",
       " '.bashrc',\n",
       " '.pythonstartup.py',\n",
       " '.ipython']"
      ]
     },
     "execution_count": 6,
     "metadata": {},
     "output_type": "execute_result"
    }
   ],
   "source": [
    "import os\n",
    "os.listdir()\n",
    "\n"
   ]
  },
  {
   "cell_type": "code",
   "execution_count": null,
   "id": "11479a51-47e9-4ced-8199-c8d2401e646d",
   "metadata": {},
   "outputs": [],
   "source": [
    "import pandas as pd\n",
    "df = pd.read_excel('player_data.xlsx')\n",
    "df.head()\n"
   ]
  },
  {
   "cell_type": "markdown",
   "id": "ab6723be-3adc-455b-92ee-3c711b491a79",
   "metadata": {},
   "source": [
    "df = df.dropna(how='all')\n"
   ]
  },
  {
   "cell_type": "code",
   "execution_count": 9,
   "id": "f82ae5c2-a5cc-494b-8dfd-5891212b09f1",
   "metadata": {},
   "outputs": [],
   "source": [
    "df = df.dropna(axis=1, how='all')\n"
   ]
  },
  {
   "cell_type": "code",
   "execution_count": 10,
   "id": "2a855e85-6b3c-411c-ab1b-6d5f94b208ac",
   "metadata": {},
   "outputs": [],
   "source": [
    "df = df.dropna()\n"
   ]
  },
  {
   "cell_type": "code",
   "execution_count": 11,
   "id": "cc580a89-9ffa-4f51-baf3-118143e72eaa",
   "metadata": {},
   "outputs": [
    {
     "data": {
      "text/plain": [
       "Players Name    0\n",
       "Transfer        0\n",
       "Performance     0\n",
       "dtype: int64"
      ]
     },
     "execution_count": 11,
     "metadata": {},
     "output_type": "execute_result"
    }
   ],
   "source": [
    "df.isnull().sum()\n"
   ]
  },
  {
   "cell_type": "code",
   "execution_count": 14,
   "id": "4b92a518-8ce3-47b4-8c18-3a3eaa8d3d70",
   "metadata": {},
   "outputs": [
    {
     "data": {
      "text/html": [
       "<div>\n",
       "<style scoped>\n",
       "    .dataframe tbody tr th:only-of-type {\n",
       "        vertical-align: middle;\n",
       "    }\n",
       "\n",
       "    .dataframe tbody tr th {\n",
       "        vertical-align: top;\n",
       "    }\n",
       "\n",
       "    .dataframe thead th {\n",
       "        text-align: right;\n",
       "    }\n",
       "</style>\n",
       "<table border=\"1\" class=\"dataframe\">\n",
       "  <thead>\n",
       "    <tr style=\"text-align: right;\">\n",
       "      <th></th>\n",
       "      <th>Name</th>\n",
       "      <th>Transfer_Fee</th>\n",
       "      <th>Rating</th>\n",
       "    </tr>\n",
       "  </thead>\n",
       "  <tbody>\n",
       "    <tr>\n",
       "      <th>0</th>\n",
       "      <td>Players Name</td>\n",
       "      <td>Transfer</td>\n",
       "      <td>Performance</td>\n",
       "    </tr>\n",
       "    <tr>\n",
       "      <th>1</th>\n",
       "      <td>Gabriel Jesus</td>\n",
       "      <td>52</td>\n",
       "      <td>7.42</td>\n",
       "    </tr>\n",
       "    <tr>\n",
       "      <th>2</th>\n",
       "      <td>Fabio Vieira</td>\n",
       "      <td>35</td>\n",
       "      <td>6.31</td>\n",
       "    </tr>\n",
       "    <tr>\n",
       "      <th>3</th>\n",
       "      <td>Leandro Trossard</td>\n",
       "      <td>24</td>\n",
       "      <td>6.84</td>\n",
       "    </tr>\n",
       "    <tr>\n",
       "      <th>4</th>\n",
       "      <td>Isak</td>\n",
       "      <td>70</td>\n",
       "      <td>7.06</td>\n",
       "    </tr>\n",
       "    <tr>\n",
       "      <th>5</th>\n",
       "      <td>Casemiro</td>\n",
       "      <td>70.43</td>\n",
       "      <td>7.17</td>\n",
       "    </tr>\n",
       "  </tbody>\n",
       "</table>\n",
       "</div>"
      ],
      "text/plain": [
       "               Name Transfer_Fee       Rating\n",
       "0      Players Name    Transfer   Performance\n",
       "1     Gabriel Jesus           52         7.42\n",
       "2      Fabio Vieira           35         6.31\n",
       "3  Leandro Trossard           24         6.84\n",
       "4              Isak           70         7.06\n",
       "5          Casemiro        70.43         7.17"
      ]
     },
     "execution_count": 14,
     "metadata": {},
     "output_type": "execute_result"
    }
   ],
   "source": [
    "import pandas as pd\n",
    "\n",
    "df = pd.read_excel('player_data.xlsx', header=None)  # No header row yet\n",
    "df = df.dropna(how='all')\n",
    "df = df.reset_index(drop=True)\n",
    "df.columns = ['Name', 'Transfer_Fee', 'Rating']\n",
    "df.head(6)\n"
   ]
  },
  {
   "cell_type": "code",
   "execution_count": 17,
   "id": "f0e53649-47df-40c4-b43b-ac4de8601b0c",
   "metadata": {},
   "outputs": [
    {
     "data": {
      "text/html": [
       "<div>\n",
       "<style scoped>\n",
       "    .dataframe tbody tr th:only-of-type {\n",
       "        vertical-align: middle;\n",
       "    }\n",
       "\n",
       "    .dataframe tbody tr th {\n",
       "        vertical-align: top;\n",
       "    }\n",
       "\n",
       "    .dataframe thead th {\n",
       "        text-align: right;\n",
       "    }\n",
       "</style>\n",
       "<table border=\"1\" class=\"dataframe\">\n",
       "  <thead>\n",
       "    <tr style=\"text-align: right;\">\n",
       "      <th></th>\n",
       "      <th>Name</th>\n",
       "      <th>Transfer_Fee</th>\n",
       "      <th>Rating</th>\n",
       "    </tr>\n",
       "  </thead>\n",
       "  <tbody>\n",
       "    <tr>\n",
       "      <th>0</th>\n",
       "      <td>Players Name</td>\n",
       "      <td>Transfer</td>\n",
       "      <td>Performance</td>\n",
       "    </tr>\n",
       "    <tr>\n",
       "      <th>1</th>\n",
       "      <td>Gabriel Jesus</td>\n",
       "      <td>52</td>\n",
       "      <td>7.42</td>\n",
       "    </tr>\n",
       "    <tr>\n",
       "      <th>2</th>\n",
       "      <td>Fabio Vieira</td>\n",
       "      <td>35</td>\n",
       "      <td>6.31</td>\n",
       "    </tr>\n",
       "    <tr>\n",
       "      <th>3</th>\n",
       "      <td>Leandro Trossard</td>\n",
       "      <td>24</td>\n",
       "      <td>6.84</td>\n",
       "    </tr>\n",
       "    <tr>\n",
       "      <th>4</th>\n",
       "      <td>Isak</td>\n",
       "      <td>70</td>\n",
       "      <td>7.06</td>\n",
       "    </tr>\n",
       "    <tr>\n",
       "      <th>5</th>\n",
       "      <td>Casemiro</td>\n",
       "      <td>70.43</td>\n",
       "      <td>7.17</td>\n",
       "    </tr>\n",
       "    <tr>\n",
       "      <th>6</th>\n",
       "      <td>Mikkel Damsgard</td>\n",
       "      <td>15</td>\n",
       "      <td>6.35</td>\n",
       "    </tr>\n",
       "    <tr>\n",
       "      <th>7</th>\n",
       "      <td>Enciso</td>\n",
       "      <td>12</td>\n",
       "      <td>6.78</td>\n",
       "    </tr>\n",
       "    <tr>\n",
       "      <th>8</th>\n",
       "      <td>Marc Cucurella</td>\n",
       "      <td>65</td>\n",
       "      <td>6.65</td>\n",
       "    </tr>\n",
       "    <tr>\n",
       "      <th>9</th>\n",
       "      <td>Amadou Onana</td>\n",
       "      <td>40</td>\n",
       "      <td>6.71</td>\n",
       "    </tr>\n",
       "    <tr>\n",
       "      <th>10</th>\n",
       "      <td>Neal Maupay</td>\n",
       "      <td>11</td>\n",
       "      <td>6.2</td>\n",
       "    </tr>\n",
       "    <tr>\n",
       "      <th>11</th>\n",
       "      <td>Joao Palhinha</td>\n",
       "      <td>25</td>\n",
       "      <td>6.93</td>\n",
       "    </tr>\n",
       "    <tr>\n",
       "      <th>12</th>\n",
       "      <td>Issa Diop</td>\n",
       "      <td>18</td>\n",
       "      <td>6.66</td>\n",
       "    </tr>\n",
       "    <tr>\n",
       "      <th>13</th>\n",
       "      <td>Andreas Pereira</td>\n",
       "      <td>10</td>\n",
       "      <td>6.73</td>\n",
       "    </tr>\n",
       "    <tr>\n",
       "      <th>14</th>\n",
       "      <td>Darwin Nunez</td>\n",
       "      <td>85</td>\n",
       "      <td>6.79</td>\n",
       "    </tr>\n",
       "    <tr>\n",
       "      <th>15</th>\n",
       "      <td>Erling haaland</td>\n",
       "      <td>60</td>\n",
       "      <td>7.52</td>\n",
       "    </tr>\n",
       "    <tr>\n",
       "      <th>16</th>\n",
       "      <td>Akanji</td>\n",
       "      <td>20</td>\n",
       "      <td>6.59</td>\n",
       "    </tr>\n",
       "    <tr>\n",
       "      <th>17</th>\n",
       "      <td>Antony</td>\n",
       "      <td>95</td>\n",
       "      <td>6.82</td>\n",
       "    </tr>\n",
       "    <tr>\n",
       "      <th>18</th>\n",
       "      <td>Richarlison</td>\n",
       "      <td>58</td>\n",
       "      <td>6.42</td>\n",
       "    </tr>\n",
       "    <tr>\n",
       "      <th>19</th>\n",
       "      <td>Bissouma</td>\n",
       "      <td>29</td>\n",
       "      <td>6.29</td>\n",
       "    </tr>\n",
       "  </tbody>\n",
       "</table>\n",
       "</div>"
      ],
      "text/plain": [
       "                Name Transfer_Fee       Rating\n",
       "0       Players Name    Transfer   Performance\n",
       "1      Gabriel Jesus           52         7.42\n",
       "2       Fabio Vieira           35         6.31\n",
       "3   Leandro Trossard           24         6.84\n",
       "4               Isak           70         7.06\n",
       "5           Casemiro        70.43         7.17\n",
       "6    Mikkel Damsgard           15         6.35\n",
       "7             Enciso           12         6.78\n",
       "8     Marc Cucurella           65         6.65\n",
       "9       Amadou Onana           40         6.71\n",
       "10       Neal Maupay           11          6.2\n",
       "11     Joao Palhinha           25         6.93\n",
       "12         Issa Diop           18         6.66\n",
       "13   Andreas Pereira           10         6.73\n",
       "14      Darwin Nunez           85         6.79\n",
       "15    Erling haaland           60         7.52\n",
       "16            Akanji           20         6.59\n",
       "17            Antony           95         6.82\n",
       "18       Richarlison           58         6.42\n",
       "19          Bissouma           29         6.29"
      ]
     },
     "execution_count": 17,
     "metadata": {},
     "output_type": "execute_result"
    }
   ],
   "source": [
    "df.head(20)"
   ]
  },
  {
   "cell_type": "code",
   "execution_count": null,
   "id": "3a3cb61e-bdfa-47d8-81e1-d09c1eaba0fb",
   "metadata": {},
   "outputs": [],
   "source": [
    "Check Data type\n"
   ]
  },
  {
   "cell_type": "code",
   "execution_count": 18,
   "id": "ea9f997f-c939-415f-97d9-904aa3c1399c",
   "metadata": {},
   "outputs": [
    {
     "data": {
      "text/html": [
       "<div>\n",
       "<style scoped>\n",
       "    .dataframe tbody tr th:only-of-type {\n",
       "        vertical-align: middle;\n",
       "    }\n",
       "\n",
       "    .dataframe tbody tr th {\n",
       "        vertical-align: top;\n",
       "    }\n",
       "\n",
       "    .dataframe thead th {\n",
       "        text-align: right;\n",
       "    }\n",
       "</style>\n",
       "<table border=\"1\" class=\"dataframe\">\n",
       "  <thead>\n",
       "    <tr style=\"text-align: right;\">\n",
       "      <th></th>\n",
       "      <th>Name</th>\n",
       "      <th>Transfer_Fee</th>\n",
       "      <th>Rating</th>\n",
       "    </tr>\n",
       "  </thead>\n",
       "  <tbody>\n",
       "    <tr>\n",
       "      <th>count</th>\n",
       "      <td>22</td>\n",
       "      <td>22</td>\n",
       "      <td>22</td>\n",
       "    </tr>\n",
       "    <tr>\n",
       "      <th>unique</th>\n",
       "      <td>22</td>\n",
       "      <td>22</td>\n",
       "      <td>22</td>\n",
       "    </tr>\n",
       "    <tr>\n",
       "      <th>top</th>\n",
       "      <td>Players Name</td>\n",
       "      <td>Transfer</td>\n",
       "      <td>Performance</td>\n",
       "    </tr>\n",
       "    <tr>\n",
       "      <th>freq</th>\n",
       "      <td>1</td>\n",
       "      <td>1</td>\n",
       "      <td>1</td>\n",
       "    </tr>\n",
       "  </tbody>\n",
       "</table>\n",
       "</div>"
      ],
      "text/plain": [
       "                Name Transfer_Fee       Rating\n",
       "count             22           22           22\n",
       "unique            22           22           22\n",
       "top     Players Name    Transfer   Performance\n",
       "freq               1            1            1"
      ]
     },
     "execution_count": 18,
     "metadata": {},
     "output_type": "execute_result"
    }
   ],
   "source": [
    "df.describe()\n"
   ]
  },
  {
   "cell_type": "code",
   "execution_count": 20,
   "id": "9e2c7c40-ffb0-42a1-bdb3-c45581035bb6",
   "metadata": {},
   "outputs": [
    {
     "name": "stdout",
     "output_type": "stream",
     "text": [
      "Transfer_Fee    object\n",
      "Rating          object\n",
      "dtype: object\n"
     ]
    }
   ],
   "source": [
    "print(df[['Transfer_Fee', 'Rating']].dtypes)"
   ]
  },
  {
   "cell_type": "code",
   "execution_count": 21,
   "id": "5ee4761a-489c-4a07-96e4-7a329b652493",
   "metadata": {},
   "outputs": [],
   "source": [
    "# Convert Transfer_Fee to numeric, handling non-numeric values\n",
    "df['Transfer_Fee'] = pd.to_numeric(df['Transfer_Fee'], errors='coerce')\n",
    "\n",
    "# Convert Rating to numeric if needed\n",
    "df['Rating'] = pd.to_numeric(df['Rating'], errors='coerce')"
   ]
  },
  {
   "cell_type": "code",
   "execution_count": 22,
   "id": "3345ed2c-be19-4447-9562-f16e1417a1a7",
   "metadata": {},
   "outputs": [
    {
     "data": {
      "text/html": [
       "<div>\n",
       "<style scoped>\n",
       "    .dataframe tbody tr th:only-of-type {\n",
       "        vertical-align: middle;\n",
       "    }\n",
       "\n",
       "    .dataframe tbody tr th {\n",
       "        vertical-align: top;\n",
       "    }\n",
       "\n",
       "    .dataframe thead th {\n",
       "        text-align: right;\n",
       "    }\n",
       "</style>\n",
       "<table border=\"1\" class=\"dataframe\">\n",
       "  <thead>\n",
       "    <tr style=\"text-align: right;\">\n",
       "      <th></th>\n",
       "      <th>Transfer_Fee</th>\n",
       "      <th>Rating</th>\n",
       "    </tr>\n",
       "  </thead>\n",
       "  <tbody>\n",
       "    <tr>\n",
       "      <th>Transfer_Fee</th>\n",
       "      <td>1.00000</td>\n",
       "      <td>0.42538</td>\n",
       "    </tr>\n",
       "    <tr>\n",
       "      <th>Rating</th>\n",
       "      <td>0.42538</td>\n",
       "      <td>1.00000</td>\n",
       "    </tr>\n",
       "  </tbody>\n",
       "</table>\n",
       "</div>"
      ],
      "text/plain": [
       "              Transfer_Fee   Rating\n",
       "Transfer_Fee       1.00000  0.42538\n",
       "Rating             0.42538  1.00000"
      ]
     },
     "execution_count": 22,
     "metadata": {},
     "output_type": "execute_result"
    }
   ],
   "source": [
    "df[['Transfer_Fee', 'Rating']].corr()"
   ]
  },
  {
   "cell_type": "code",
   "execution_count": null,
   "id": "cea27fcb-e464-49ad-b87c-73fc1b76a753",
   "metadata": {},
   "outputs": [],
   "source": [
    "Value index gives the best value for money deal. I.e Rating/Money"
   ]
  },
  {
   "cell_type": "code",
   "execution_count": 24,
   "id": "3180e3d9-613d-445a-a33e-20256a0d0991",
   "metadata": {},
   "outputs": [
    {
     "data": {
      "text/html": [
       "<div>\n",
       "<style scoped>\n",
       "    .dataframe tbody tr th:only-of-type {\n",
       "        vertical-align: middle;\n",
       "    }\n",
       "\n",
       "    .dataframe tbody tr th {\n",
       "        vertical-align: top;\n",
       "    }\n",
       "\n",
       "    .dataframe thead th {\n",
       "        text-align: right;\n",
       "    }\n",
       "</style>\n",
       "<table border=\"1\" class=\"dataframe\">\n",
       "  <thead>\n",
       "    <tr style=\"text-align: right;\">\n",
       "      <th></th>\n",
       "      <th>Name</th>\n",
       "      <th>Transfer_Fee</th>\n",
       "      <th>Rating</th>\n",
       "      <th>Value_Index</th>\n",
       "    </tr>\n",
       "  </thead>\n",
       "  <tbody>\n",
       "    <tr>\n",
       "      <th>13</th>\n",
       "      <td>Andreas Pereira</td>\n",
       "      <td>10.0</td>\n",
       "      <td>6.73</td>\n",
       "      <td>0.673000</td>\n",
       "    </tr>\n",
       "    <tr>\n",
       "      <th>7</th>\n",
       "      <td>Enciso</td>\n",
       "      <td>12.0</td>\n",
       "      <td>6.78</td>\n",
       "      <td>0.565000</td>\n",
       "    </tr>\n",
       "    <tr>\n",
       "      <th>10</th>\n",
       "      <td>Neal Maupay</td>\n",
       "      <td>11.0</td>\n",
       "      <td>6.20</td>\n",
       "      <td>0.563636</td>\n",
       "    </tr>\n",
       "    <tr>\n",
       "      <th>6</th>\n",
       "      <td>Mikkel Damsgard</td>\n",
       "      <td>15.0</td>\n",
       "      <td>6.35</td>\n",
       "      <td>0.423333</td>\n",
       "    </tr>\n",
       "    <tr>\n",
       "      <th>12</th>\n",
       "      <td>Issa Diop</td>\n",
       "      <td>18.0</td>\n",
       "      <td>6.66</td>\n",
       "      <td>0.370000</td>\n",
       "    </tr>\n",
       "  </tbody>\n",
       "</table>\n",
       "</div>"
      ],
      "text/plain": [
       "               Name  Transfer_Fee  Rating  Value_Index\n",
       "13  Andreas Pereira          10.0    6.73     0.673000\n",
       "7            Enciso          12.0    6.78     0.565000\n",
       "10      Neal Maupay          11.0    6.20     0.563636\n",
       "6   Mikkel Damsgard          15.0    6.35     0.423333\n",
       "12        Issa Diop          18.0    6.66     0.370000"
      ]
     },
     "execution_count": 24,
     "metadata": {},
     "output_type": "execute_result"
    }
   ],
   "source": [
    "df['Value_Index'] = df['Rating'] / df['Transfer_Fee']\n",
    "df.sort_values('Value_Index', ascending=False).head()\n"
   ]
  },
  {
   "cell_type": "code",
   "execution_count": null,
   "id": "04ee2d4c-c6e3-42b5-b4df-117c9998c27b",
   "metadata": {},
   "outputs": [],
   "source": [
    "See the correlation of the data of rating and transfer fee"
   ]
  },
  {
   "cell_type": "code",
   "execution_count": 25,
   "id": "a58d35fe-a655-46af-aad3-ea14490bb8b5",
   "metadata": {},
   "outputs": [
    {
     "data": {
      "text/plain": [
       "<seaborn.axisgrid.FacetGrid at 0x7b1ec1ed5c90>"
      ]
     },
     "execution_count": 25,
     "metadata": {},
     "output_type": "execute_result"
    },
    {
     "data": {
      "image/png": "[encoded data removed]",
      "text/plain": [
       "<Figure size 900x600 with 1 Axes>"
      ]
     },
     "metadata": {},
     "output_type": "display_data"
    }
   ],
   "source": [
    "sns.lmplot(data=df, x='Transfer_Fee', y='Rating', lowess=True, height=6, aspect=1.5)\n"
   ]
  },
  {
   "cell_type": "code",
   "execution_count": 26,
   "id": "b4356880-b835-4611-b9b8-acef428391dd",
   "metadata": {},
   "outputs": [
    {
     "data": {
      "image/png": "[encoded data removed]",
      "text/plain": [
       "<Figure size 640x480 with 1 Axes>"
      ]
     },
     "metadata": {},
     "output_type": "display_data"
    }
   ],
   "source": [
    "# Plot scatter plot with regression line\n",
    "sns.regplot(x='Transfer_Fee', y='Rating', data=df, ci=None)\n",
    "\n",
    "plt.title('Correlation between Transfer Fee and Rating')\n",
    "plt.xlabel('Transfer Fee')\n",
    "plt.ylabel('Rating')\n",
    "plt.show()"
   ]
  },
  {
   "cell_type": "code",
   "execution_count": 31,
   "id": "6bb561ff-ce08-475a-a6ac-db3e87f907b6",
   "metadata": {},
   "outputs": [],
   "source": [
    "df = df.dropna(subset=['Transfer_Fee', 'Rating'])\n",
    "from scipy.optimize import curve_fit\n",
    "\n",
    "def quadratic_model(x, a, b, c):\n",
    "    return a * x**2 + b * x + c\n",
    "\n",
    "popt, pcov = curve_fit(\n",
    "    quadratic_model,\n",
    "    df['Transfer_Fee'],\n",
    "    df['Rating'],\n",
    "    p0=[1, 1, 1]  # Initial guesses for a, b, c\n",
    ")\n",
    "a, b, c = popt\n",
    "ideal_price = -b / (2 * a)"
   ]
  },
  {
   "cell_type": "code",
   "execution_count": 32,
   "id": "200880f4-0ef7-4344-b4e9-bbf64945926a",
   "metadata": {},
   "outputs": [
    {
     "name": "stdout",
     "output_type": "stream",
     "text": [
      "Ideal Transfer Fee: 73.47\n"
     ]
    }
   ],
   "source": [
    "import pandas as pd\n",
    "import numpy as np\n",
    "import seaborn as sns\n",
    "\n",
    "# Clean data\n",
    "df = df.dropna()\n",
    "df['Transfer_Fee'] = pd.to_numeric(df['Transfer_Fee'], errors='coerce')\n",
    "df['Rating'] = pd.to_numeric(df['Rating'], errors='coerce')\n",
    "df = df.dropna()\n",
    "\n",
    "# Check for constant values\n",
    "assert df['Transfer_Fee'].nunique() > 1, \"Transfer_Fee has no variance!\"\n",
    "\n",
    "# Fit polynomial\n",
    "try:\n",
    "    coefficients = np.polyfit(df['Transfer_Fee'], df['Rating'], 2)\n",
    "    a, b, c = coefficients\n",
    "    ideal_price = -b / (2 * a)\n",
    "    print(f\"Ideal Transfer Fee: {ideal_price:.2f}\")\n",
    "except np.linalg.LinAlgError:\n",
    "    print(\"Failed to fit polynomial. Try cleaning data or using curve_fit.\")"
   ]
  }
 ],
 "metadata": {
  "kernelspec": {
   "display_name": "anaconda-2024.02-py310",
   "language": "python",
   "name": "conda-env-anaconda-2024.02-py310-py"
  },
  "language_info": {
   "codemirror_mode": {
    "name": "ipython",
    "version": 3
   },
   "file_extension": ".py",
   "mimetype": "text/x-python",
   "name": "python",
   "nbconvert_exporter": "python",
   "pygments_lexer": "ipython3",
   "version": "3.10.14"
  }
 },
 "nbformat": 4,
 "nbformat_minor": 5
}
